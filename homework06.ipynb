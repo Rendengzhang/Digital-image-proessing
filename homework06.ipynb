{
 "cells": [
  {
   "cell_type": "code",
   "execution_count": 8,
   "metadata": {},
   "outputs": [],
   "source": [
    "import cv2\n",
    "import numpy as np\n",
    "from pylab import *"
   ]
  },
  {
   "cell_type": "code",
   "execution_count": 9,
   "metadata": {},
   "outputs": [
    {
     "data": {
      "text/plain": [
       "(339, 530, 3)"
      ]
     },
     "execution_count": 9,
     "metadata": {},
     "output_type": "execute_result"
    }
   ],
   "source": [
    "img=cv2.imread(r'D:\\1.jpg')\n",
    "img.shape"
   ]
  },
  {
   "cell_type": "code",
   "execution_count": 4,
   "metadata": {},
   "outputs": [],
   "source": [
    "#调用函数切割分量\n",
    "b,g,r = cv2.split(img)\n",
    "cv2.imshow(\"Blue 1\", b)\n",
    "cv2.imshow(\"Green 1\", g)\n",
    "cv2.imshow(\"Red 1\", r)\n",
    "cv2.waitKey(0)\n",
    "cv2.destroyAllWindows()"
   ]
  },
  {
   "cell_type": "code",
   "execution_count": 15,
   "metadata": {
    "scrolled": true
   },
   "outputs": [],
   "source": [
    "#\n",
    "def get_red(img):\n",
    "    redImg = img[:,:,2]\n",
    "    return redImg\n",
    "\n",
    "def get_green(img):\n",
    "    greenImg = img[:,:,1]\n",
    "    return greenImg\n",
    "\n",
    "def get_blue(img):\n",
    "    blueImg = img[:,:,0]\n",
    "    return blueImg\n",
    "\n",
    "if __name__ == '__main__':\n",
    "    b = get_blue(img)\n",
    "    g = get_green(img)\n",
    "    r = get_red(img)\n",
    "    cv2.imshow(\"Blue 2\", b)\n",
    "    cv2.imshow(\"Green 2\", g)\n",
    "    cv2.imshow(\"Red 2\", r)\n",
    "    \n",
    "    \n",
    "    cv2.waitKey(0)\n",
    "    cv2.destroyAllWindows()\n"
   ]
  },
  {
   "cell_type": "code",
   "execution_count": null,
   "metadata": {},
   "outputs": [],
   "source": []
  },
  {
   "cell_type": "code",
   "execution_count": 12,
   "metadata": {},
   "outputs": [
    {
     "name": "stderr",
     "output_type": "stream",
     "text": [
      "F:\\Anaconda\\anaconda3\\lib\\site-packages\\ipykernel_launcher.py:16: RuntimeWarning: invalid value encountered in double_scalars\n",
      "  app.launch_new_instance()\n"
     ]
    }
   ],
   "source": [
    "#RGB转HSI\n",
    "def rgbtohsi(rgb_lwpImg):\n",
    "    rows = rgb_lwpImg.shape[0]\n",
    "    cols = rgb_lwpImg.shape[1]\n",
    "    b, g, r = cv2.split(rgb_lwpImg)\n",
    "    # 归一化到[0,1]\n",
    "    b = b / 255.0\n",
    "    g = g / 255.0\n",
    "    r = r / 255.0\n",
    "    hsi_lwpImg = rgb_lwpImg.copy()\n",
    "    H, S, I = cv2.split(hsi_lwpImg)\n",
    "    for i in range(rows):\n",
    "        for j in range(cols):\n",
    "            num = 0.5 * ((r[i, j]-g[i, j])+(r[i, j]-b[i, j]))\n",
    "            den = np.sqrt((r[i, j]-g[i, j])**2+(r[i, j]-b[i, j])*(g[i, j]-b[i, j]))\n",
    "            theta = float(np.arccos(num/den))\n",
    "\n",
    "            if den == 0:\n",
    "                    H = 0\n",
    "            elif b[i, j] <= g[i, j]:\n",
    "                H = theta\n",
    "            else:\n",
    "                H = 2*3.14169265 - theta\n",
    "\n",
    "            min_RGB = min(min(b[i, j], g[i, j]), r[i, j])\n",
    "            sum = b[i, j]+g[i, j]+r[i, j]\n",
    "            if sum == 0:\n",
    "                S = 0\n",
    "            else:\n",
    "                S = 1 - 3*min_RGB/sum\n",
    "\n",
    "            H = H/(2*3.14159265)\n",
    "            I = sum/3.0\n",
    "            # 输出HSI图像，扩充到255以方便显示，一般H分量在[0,2pi]之间，S和I在[0,1]之间\n",
    "            hsi_lwpImg[i, j, 0] = H*255\n",
    "            hsi_lwpImg[i, j, 1] = S*255\n",
    "            hsi_lwpImg[i, j, 2] = I*255\n",
    "    return hsi_lwpImg\n",
    "if __name__ == '__main__':\n",
    "    rgb_lwpImg = cv2.imread(r\"D:\\1.jpg\")\n",
    "    hsi_lwpImg = rgbtohsi(rgb_lwpImg)\n",
    "\n",
    "    cv2.imshow('rgb_lwpImg', rgb_lwpImg)\n",
    "    cv2.imshow('hsi_lwpImg', hsi_lwpImg)\n",
    "\n",
    "    key = cv2.waitKey(0) & 0xFF\n",
    "    if key == ord('q'):\n",
    "        cv2.destroyAllWindows()"
   ]
  },
  {
   "cell_type": "code",
   "execution_count": 16,
   "metadata": {},
   "outputs": [],
   "source": [
    "r = get_red(hsi_lwpImg)\n",
    "cv2.imshow(\"Red\", r)\n",
    "cv2.waitKey(0)\n",
    "cv2.destroyAllWindows()"
   ]
  },
  {
   "cell_type": "code",
   "execution_count": null,
   "metadata": {},
   "outputs": [],
   "source": []
  },
  {
   "cell_type": "code",
   "execution_count": null,
   "metadata": {},
   "outputs": [],
   "source": []
  },
  {
   "cell_type": "code",
   "execution_count": null,
   "metadata": {},
   "outputs": [],
   "source": []
  },
  {
   "cell_type": "code",
   "execution_count": null,
   "metadata": {},
   "outputs": [],
   "source": []
  },
  {
   "cell_type": "code",
   "execution_count": null,
   "metadata": {},
   "outputs": [],
   "source": []
  },
  {
   "cell_type": "code",
   "execution_count": null,
   "metadata": {},
   "outputs": [],
   "source": []
  },
  {
   "cell_type": "code",
   "execution_count": null,
   "metadata": {},
   "outputs": [],
   "source": []
  },
  {
   "cell_type": "code",
   "execution_count": null,
   "metadata": {},
   "outputs": [],
   "source": []
  },
  {
   "cell_type": "code",
   "execution_count": null,
   "metadata": {},
   "outputs": [],
   "source": []
  }
 ],
 "metadata": {
  "kernelspec": {
   "display_name": "Python 3",
   "language": "python",
   "name": "python3"
  },
  "language_info": {
   "codemirror_mode": {
    "name": "ipython",
    "version": 3
   },
   "file_extension": ".py",
   "mimetype": "text/x-python",
   "name": "python",
   "nbconvert_exporter": "python",
   "pygments_lexer": "ipython3",
   "version": "3.5.6"
  }
 },
 "nbformat": 4,
 "nbformat_minor": 2
}
